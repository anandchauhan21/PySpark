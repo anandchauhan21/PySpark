{
  "nbformat": 4,
  "nbformat_minor": 0,
  "metadata": {
    "colab": {
      "name": "Session-1.ipynb",
      "provenance": [],
      "collapsed_sections": [],
      "authorship_tag": "ABX9TyNZWrUU4oh/XKqUQlSAxCUy",
      "include_colab_link": true
    },
    "kernelspec": {
      "name": "python3",
      "display_name": "Python 3"
    },
    "language_info": {
      "name": "python"
    }
  },
  "cells": [
    {
      "cell_type": "markdown",
      "metadata": {
        "id": "view-in-github",
        "colab_type": "text"
      },
      "source": [
        "<a href=\"https://colab.research.google.com/github/anandchauhan21/PySpark/blob/main/Session_1.ipynb\" target=\"_parent\"><img src=\"https://colab.research.google.com/assets/colab-badge.svg\" alt=\"Open In Colab\"/></a>"
      ]
    },
    {
      "cell_type": "code",
      "execution_count": 22,
      "metadata": {
        "colab": {
          "base_uri": "https://localhost:8080/"
        },
        "id": "Z2j8lwxxDCSs",
        "outputId": "41267e28-8659-4539-b77b-44c629c8149f"
      },
      "outputs": [
        {
          "output_type": "stream",
          "name": "stdout",
          "text": [
            "Looking in indexes: https://pypi.org/simple, https://us-python.pkg.dev/colab-wheels/public/simple/\n",
            "Requirement already satisfied: pyspark in /usr/local/lib/python3.7/dist-packages (3.3.0)\n",
            "Requirement already satisfied: py4j==0.10.9.5 in /usr/local/lib/python3.7/dist-packages (from pyspark) (0.10.9.5)\n"
          ]
        }
      ],
      "source": [
        "!pip install pyspark"
      ]
    },
    {
      "cell_type": "markdown",
      "source": [
        "# Session 1\n",
        "\n",
        "\n",
        "*   PySpark Dataframe\n",
        "*   Reading The Dataset\n",
        "*   Checking the Datatype pf the Colume(Schema)\n",
        "*   Selectiong Columns And indexing\n",
        "*   Check Describtion option similar to Pandas\n",
        "*   Adding Colums\n",
        "*   Dropping columns\n",
        "*   Renaming Columns\n",
        "\n",
        "\n",
        "\n"
      ],
      "metadata": {
        "id": "2wpbQcNATO7z"
      }
    },
    {
      "cell_type": "code",
      "source": [
        "import pyspark"
      ],
      "metadata": {
        "id": "4R6J6cZgD02E"
      },
      "execution_count": 23,
      "outputs": []
    },
    {
      "cell_type": "code",
      "source": [
        "from pyspark.sql import SparkSession"
      ],
      "metadata": {
        "id": "14Py8_cqGuY9"
      },
      "execution_count": 24,
      "outputs": []
    },
    {
      "cell_type": "code",
      "source": [
        "spark = SparkSession.builder.appName('Practise').getOrCreate()"
      ],
      "metadata": {
        "id": "ZR9dplC1G6-W"
      },
      "execution_count": 25,
      "outputs": []
    },
    {
      "cell_type": "code",
      "source": [
        "spark"
      ],
      "metadata": {
        "colab": {
          "base_uri": "https://localhost:8080/",
          "height": 219
        },
        "id": "makm4T2bHJkL",
        "outputId": "813d463f-e7c7-41c9-b1c1-25a98419e2ee"
      },
      "execution_count": 26,
      "outputs": [
        {
          "output_type": "execute_result",
          "data": {
            "text/plain": [
              "<pyspark.sql.session.SparkSession at 0x7f0a75976cd0>"
            ],
            "text/html": [
              "\n",
              "            <div>\n",
              "                <p><b>SparkSession - in-memory</b></p>\n",
              "                \n",
              "        <div>\n",
              "            <p><b>SparkContext</b></p>\n",
              "\n",
              "            <p><a href=\"http://33de79da7062:4040\">Spark UI</a></p>\n",
              "\n",
              "            <dl>\n",
              "              <dt>Version</dt>\n",
              "                <dd><code>v3.3.0</code></dd>\n",
              "              <dt>Master</dt>\n",
              "                <dd><code>local[*]</code></dd>\n",
              "              <dt>AppName</dt>\n",
              "                <dd><code>Practise</code></dd>\n",
              "            </dl>\n",
              "        </div>\n",
              "        \n",
              "            </div>\n",
              "        "
            ]
          },
          "metadata": {},
          "execution_count": 26
        }
      ]
    },
    {
      "cell_type": "code",
      "source": [
        "df_pyspark = spark.read.csv('/content/Book1.csv')"
      ],
      "metadata": {
        "id": "QXTJ10OyHNGD"
      },
      "execution_count": 27,
      "outputs": []
    },
    {
      "cell_type": "code",
      "source": [
        "df_pyspark = spark.read.option('header','true').csv('/content/Book1.csv',inferSchema=True) #.show()"
      ],
      "metadata": {
        "id": "pW2YAOsHHiSL"
      },
      "execution_count": 28,
      "outputs": []
    },
    {
      "cell_type": "code",
      "source": [
        "df_pyspark.printSchema()"
      ],
      "metadata": {
        "colab": {
          "base_uri": "https://localhost:8080/"
        },
        "id": "eS42MrY_Hwi8",
        "outputId": "d0b01a7e-fe21-484e-826e-ad9e11b7f05e"
      },
      "execution_count": 29,
      "outputs": [
        {
          "output_type": "stream",
          "name": "stdout",
          "text": [
            "root\n",
            " |-- name: string (nullable = true)\n",
            " |-- age: integer (nullable = true)\n",
            " |-- exp: integer (nullable = true)\n",
            "\n"
          ]
        }
      ]
    },
    {
      "cell_type": "code",
      "source": [
        "df_pyspark = spark.read.csv('/content/Book1.csv',header=True,inferSchema=True)\n",
        "df_pyspark.show()"
      ],
      "metadata": {
        "colab": {
          "base_uri": "https://localhost:8080/"
        },
        "id": "FK7H5NIxJWWk",
        "outputId": "dae75457-5f0b-40b0-9378-02932cba6d38"
      },
      "execution_count": 30,
      "outputs": [
        {
          "output_type": "stream",
          "name": "stdout",
          "text": [
            "+-----+---+---+\n",
            "| name|age|exp|\n",
            "+-----+---+---+\n",
            "|anand| 18|  4|\n",
            "| jay | 24|  8|\n",
            "|  raj| 20|  6|\n",
            "+-----+---+---+\n",
            "\n"
          ]
        }
      ]
    },
    {
      "cell_type": "code",
      "source": [
        "df_pyspark.printSchema()"
      ],
      "metadata": {
        "colab": {
          "base_uri": "https://localhost:8080/"
        },
        "id": "QS2C7995KNVK",
        "outputId": "9d414bd0-d07e-4ea9-ba59-aee775aaa3a6"
      },
      "execution_count": 31,
      "outputs": [
        {
          "output_type": "stream",
          "name": "stdout",
          "text": [
            "root\n",
            " |-- name: string (nullable = true)\n",
            " |-- age: integer (nullable = true)\n",
            " |-- exp: integer (nullable = true)\n",
            "\n"
          ]
        }
      ]
    },
    {
      "cell_type": "code",
      "source": [
        "df_pyspark.columns"
      ],
      "metadata": {
        "colab": {
          "base_uri": "https://localhost:8080/"
        },
        "id": "bIoUII-NKSEr",
        "outputId": "69c81923-e64a-41c9-9a39-c582224c9584"
      },
      "execution_count": 32,
      "outputs": [
        {
          "output_type": "execute_result",
          "data": {
            "text/plain": [
              "['name', 'age', 'exp']"
            ]
          },
          "metadata": {},
          "execution_count": 32
        }
      ]
    },
    {
      "cell_type": "code",
      "source": [
        "df_pyspark.head(3)"
      ],
      "metadata": {
        "colab": {
          "base_uri": "https://localhost:8080/"
        },
        "id": "z6wLaMJVK4Px",
        "outputId": "70dab2b1-38a4-4b7c-b89a-899f817f0ebe"
      },
      "execution_count": 33,
      "outputs": [
        {
          "output_type": "execute_result",
          "data": {
            "text/plain": [
              "[Row(name='anand', age=18, exp=4),\n",
              " Row(name='jay ', age=24, exp=8),\n",
              " Row(name='raj', age=20, exp=6)]"
            ]
          },
          "metadata": {},
          "execution_count": 33
        }
      ]
    },
    {
      "cell_type": "code",
      "source": [
        "df_pyspark.select(['name','exp']).show()"
      ],
      "metadata": {
        "colab": {
          "base_uri": "https://localhost:8080/"
        },
        "id": "_JXNM9bwRj5S",
        "outputId": "bee4fa03-02eb-4bbb-fb4d-e9afd4686379"
      },
      "execution_count": 35,
      "outputs": [
        {
          "output_type": "stream",
          "name": "stdout",
          "text": [
            "+-----+---+\n",
            "| name|exp|\n",
            "+-----+---+\n",
            "|anand|  4|\n",
            "| jay |  8|\n",
            "|  raj|  6|\n",
            "+-----+---+\n",
            "\n"
          ]
        }
      ]
    },
    {
      "cell_type": "code",
      "source": [
        "df_pyspark['name']"
      ],
      "metadata": {
        "colab": {
          "base_uri": "https://localhost:8080/"
        },
        "id": "LC7-VsDYRq99",
        "outputId": "87128db4-2756-4b5b-8f5e-b0727fa67a70"
      },
      "execution_count": 36,
      "outputs": [
        {
          "output_type": "execute_result",
          "data": {
            "text/plain": [
              "Column<'name'>"
            ]
          },
          "metadata": {},
          "execution_count": 36
        }
      ]
    },
    {
      "cell_type": "code",
      "source": [
        "df_pyspark.dtypes"
      ],
      "metadata": {
        "colab": {
          "base_uri": "https://localhost:8080/"
        },
        "id": "gWupSScVTBWz",
        "outputId": "f2c6c222-cfd6-46e8-9390-51967709d5a8"
      },
      "execution_count": 37,
      "outputs": [
        {
          "output_type": "execute_result",
          "data": {
            "text/plain": [
              "[('name', 'string'), ('age', 'int'), ('exp', 'int')]"
            ]
          },
          "metadata": {},
          "execution_count": 37
        }
      ]
    },
    {
      "cell_type": "code",
      "source": [
        "df_pyspark.describe().show()"
      ],
      "metadata": {
        "colab": {
          "base_uri": "https://localhost:8080/"
        },
        "id": "0FR8L2D9S7yw",
        "outputId": "2f2e701a-84f3-4d49-8e11-84005fb60102"
      },
      "execution_count": 39,
      "outputs": [
        {
          "output_type": "stream",
          "name": "stdout",
          "text": [
            "+-------+-----+------------------+---+\n",
            "|summary| name|               age|exp|\n",
            "+-------+-----+------------------+---+\n",
            "|  count|    3|                 3|  3|\n",
            "|   mean| null|20.666666666666668|6.0|\n",
            "| stddev| null|3.0550504633038935|2.0|\n",
            "|    min|anand|                18|  4|\n",
            "|    max|  raj|                24|  8|\n",
            "+-------+-----+------------------+---+\n",
            "\n"
          ]
        }
      ]
    },
    {
      "cell_type": "markdown",
      "source": [
        "Adding Columns in data fram"
      ],
      "metadata": {
        "id": "3e6oEJ-9VBB1"
      }
    },
    {
      "cell_type": "code",
      "source": [
        "df_pyspark=df_pyspark.withColumn('Exp after 2 year',df_pyspark['exp']+2)"
      ],
      "metadata": {
        "id": "FCGHYuabUah6"
      },
      "execution_count": 45,
      "outputs": []
    },
    {
      "cell_type": "code",
      "source": [
        "df_pyspark.show()"
      ],
      "metadata": {
        "colab": {
          "base_uri": "https://localhost:8080/"
        },
        "id": "1gOC_2lSVT1R",
        "outputId": "85231000-5f22-4ede-ebee-f11ffba985c9"
      },
      "execution_count": 46,
      "outputs": [
        {
          "output_type": "stream",
          "name": "stdout",
          "text": [
            "+-----+---+---+----------------+\n",
            "| name|age|exp|Exp after 2 year|\n",
            "+-----+---+---+----------------+\n",
            "|anand| 18|  4|               6|\n",
            "| jay | 24|  8|              10|\n",
            "|  raj| 20|  6|               8|\n",
            "+-----+---+---+----------------+\n",
            "\n"
          ]
        }
      ]
    },
    {
      "cell_type": "markdown",
      "source": [
        "Drop the Colums"
      ],
      "metadata": {
        "id": "DzXxEFMhV-2z"
      }
    },
    {
      "cell_type": "code",
      "source": [
        "df_pyspark=df_pyspark.drop('Exp after 2 year')"
      ],
      "metadata": {
        "id": "HCmshp63VvRk"
      },
      "execution_count": 48,
      "outputs": []
    },
    {
      "cell_type": "code",
      "source": [
        "df_pyspark.show()"
      ],
      "metadata": {
        "colab": {
          "base_uri": "https://localhost:8080/"
        },
        "id": "yHTMkzRUWWTz",
        "outputId": "6764b1e7-cc77-474b-caf9-478a44df362f"
      },
      "execution_count": 49,
      "outputs": [
        {
          "output_type": "stream",
          "name": "stdout",
          "text": [
            "+-----+---+---+\n",
            "| name|age|exp|\n",
            "+-----+---+---+\n",
            "|anand| 18|  4|\n",
            "| jay | 24|  8|\n",
            "|  raj| 20|  6|\n",
            "+-----+---+---+\n",
            "\n"
          ]
        }
      ]
    },
    {
      "cell_type": "markdown",
      "source": [
        "Rename the Colums"
      ],
      "metadata": {
        "id": "8OKGJ76RWcta"
      }
    },
    {
      "cell_type": "code",
      "source": [
        "df_pyspark = df_pyspark.withColumnRenamed('name','New name')"
      ],
      "metadata": {
        "id": "ya2Mi9gRWYYC"
      },
      "execution_count": 50,
      "outputs": []
    },
    {
      "cell_type": "code",
      "source": [
        "df_pyspark.show()"
      ],
      "metadata": {
        "colab": {
          "base_uri": "https://localhost:8080/"
        },
        "id": "K01WHehBWt_S",
        "outputId": "ced3fadf-9be2-4a10-8fdc-58508df4ca8d"
      },
      "execution_count": 51,
      "outputs": [
        {
          "output_type": "stream",
          "name": "stdout",
          "text": [
            "+--------+---+---+\n",
            "|New name|age|exp|\n",
            "+--------+---+---+\n",
            "|   anand| 18|  4|\n",
            "|    jay | 24|  8|\n",
            "|     raj| 20|  6|\n",
            "+--------+---+---+\n",
            "\n"
          ]
        }
      ]
    }
  ]
}