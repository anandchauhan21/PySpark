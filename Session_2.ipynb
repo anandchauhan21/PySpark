{
  "nbformat": 4,
  "nbformat_minor": 0,
  "metadata": {
    "colab": {
      "name": "Session-2.ipynb",
      "provenance": [],
      "collapsed_sections": [],
      "authorship_tag": "ABX9TyN3ET/41Q71fJpLMZXPPds3",
      "include_colab_link": true
    },
    "kernelspec": {
      "name": "python3",
      "display_name": "Python 3"
    },
    "language_info": {
      "name": "python"
    }
  },
  "cells": [
    {
      "cell_type": "markdown",
      "metadata": {
        "id": "view-in-github",
        "colab_type": "text"
      },
      "source": [
        "<a href=\"https://colab.research.google.com/github/anandchauhan21/PySpark/blob/main/Session_2.ipynb\" target=\"_parent\"><img src=\"https://colab.research.google.com/assets/colab-badge.svg\" alt=\"Open In Colab\"/></a>"
      ]
    },
    {
      "cell_type": "code",
      "source": [
        "!pip install pyspark"
      ],
      "metadata": {
        "colab": {
          "base_uri": "https://localhost:8080/"
        },
        "id": "M-xXujRzfrkw",
        "outputId": "3d485e4c-75aa-41af-e42a-6a59b22fed89"
      },
      "execution_count": 13,
      "outputs": [
        {
          "output_type": "stream",
          "name": "stdout",
          "text": [
            "Looking in indexes: https://pypi.org/simple, https://us-python.pkg.dev/colab-wheels/public/simple/\n",
            "Requirement already satisfied: pyspark in /usr/local/lib/python3.7/dist-packages (3.3.0)\n",
            "Requirement already satisfied: py4j==0.10.9.5 in /usr/local/lib/python3.7/dist-packages (from pyspark) (0.10.9.5)\n"
          ]
        }
      ]
    },
    {
      "cell_type": "markdown",
      "source": [
        "# PySpark Handling Missing Values\n",
        "\n",
        "\n",
        "\n",
        "*   Dropping Colums\n",
        "*   Dropping Rows\n",
        "*   Various Parameter in Dropping functionalities\n",
        "*   Handling Missing values by Mean, MEdian And Mode\n"
      ],
      "metadata": {
        "id": "zfkX5GrZeV_2"
      }
    },
    {
      "cell_type": "markdown",
      "source": [
        "use this [csv](https://github.com/anandchauhan21/PySpark/blob/main/test.csv) file"
      ],
      "metadata": {
        "id": "XKUMopWwZ2Si"
      }
    },
    {
      "cell_type": "code",
      "source": [
        "from pyspark.sql import SparkSession\n",
        "spark=SparkSession.builder.appName('Practise').getOrCreate()"
      ],
      "metadata": {
        "id": "LT7sHT-KfMCA"
      },
      "execution_count": 14,
      "outputs": []
    },
    {
      "cell_type": "code",
      "source": [
        "df = spark.read.csv('/content/test.csv', header=True,inferSchema=True)"
      ],
      "metadata": {
        "id": "DzJRVTaHflpd"
      },
      "execution_count": 15,
      "outputs": []
    },
    {
      "cell_type": "code",
      "source": [
        "df.show()"
      ],
      "metadata": {
        "colab": {
          "base_uri": "https://localhost:8080/"
        },
        "id": "KEVXE8AtkSqd",
        "outputId": "d0c7ab65-245b-4440-da5e-2d8137ec5723"
      },
      "execution_count": 16,
      "outputs": [
        {
          "output_type": "stream",
          "name": "stdout",
          "text": [
            "+-------+---+----+------+\n",
            "|   name|age| exp|Salary|\n",
            "+-------+---+----+------+\n",
            "|  anand| 18|   4| 35000|\n",
            "|   jay | 24|   8| 30000|\n",
            "|    raj| 20|   6| 25000|\n",
            "|   ajay| 29|   3| 25000|\n",
            "| ranjan| 24|   6| 18000|\n",
            "| vivake| 21|   4| 40000|\n",
            "|kamlesh| 20|null| 15000|\n",
            "|   null| 34|   4| 19000|\n",
            "|   null| 36|null|  null|\n",
            "+-------+---+----+------+\n",
            "\n"
          ]
        }
      ]
    },
    {
      "cell_type": "code",
      "source": [
        "df.na.drop().show()"
      ],
      "metadata": {
        "colab": {
          "base_uri": "https://localhost:8080/"
        },
        "id": "nMxgcIXCknvP",
        "outputId": "dbf6d8e0-499b-44db-cb3b-b94ee5f57990"
      },
      "execution_count": 17,
      "outputs": [
        {
          "output_type": "stream",
          "name": "stdout",
          "text": [
            "+------+---+---+------+\n",
            "|  name|age|exp|Salary|\n",
            "+------+---+---+------+\n",
            "| anand| 18|  4| 35000|\n",
            "|  jay | 24|  8| 30000|\n",
            "|   raj| 20|  6| 25000|\n",
            "|  ajay| 29|  3| 25000|\n",
            "|ranjan| 24|  6| 18000|\n",
            "|vivake| 21|  4| 40000|\n",
            "+------+---+---+------+\n",
            "\n"
          ]
        }
      ]
    },
    {
      "cell_type": "code",
      "source": [
        "### any == how\n",
        "df.na.drop(how='all').show()"
      ],
      "metadata": {
        "colab": {
          "base_uri": "https://localhost:8080/"
        },
        "id": "7OknujAalR9m",
        "outputId": "51dd2070-5bec-42fe-eda3-11b99dcc950b"
      },
      "execution_count": 18,
      "outputs": [
        {
          "output_type": "stream",
          "name": "stdout",
          "text": [
            "+-------+---+----+------+\n",
            "|   name|age| exp|Salary|\n",
            "+-------+---+----+------+\n",
            "|  anand| 18|   4| 35000|\n",
            "|   jay | 24|   8| 30000|\n",
            "|    raj| 20|   6| 25000|\n",
            "|   ajay| 29|   3| 25000|\n",
            "| ranjan| 24|   6| 18000|\n",
            "| vivake| 21|   4| 40000|\n",
            "|kamlesh| 20|null| 15000|\n",
            "|   null| 34|   4| 19000|\n",
            "|   null| 36|null|  null|\n",
            "+-------+---+----+------+\n",
            "\n"
          ]
        }
      ]
    },
    {
      "cell_type": "code",
      "source": [
        "### thereshold\n",
        "df.na.drop(how='any',thresh=1).show()"
      ],
      "metadata": {
        "colab": {
          "base_uri": "https://localhost:8080/"
        },
        "id": "rHHylkuzl9YV",
        "outputId": "aa708f20-fbe9-4797-9474-b58431926086"
      },
      "execution_count": 19,
      "outputs": [
        {
          "output_type": "stream",
          "name": "stdout",
          "text": [
            "+-------+---+----+------+\n",
            "|   name|age| exp|Salary|\n",
            "+-------+---+----+------+\n",
            "|  anand| 18|   4| 35000|\n",
            "|   jay | 24|   8| 30000|\n",
            "|    raj| 20|   6| 25000|\n",
            "|   ajay| 29|   3| 25000|\n",
            "| ranjan| 24|   6| 18000|\n",
            "| vivake| 21|   4| 40000|\n",
            "|kamlesh| 20|null| 15000|\n",
            "|   null| 34|   4| 19000|\n",
            "|   null| 36|null|  null|\n",
            "+-------+---+----+------+\n",
            "\n"
          ]
        }
      ]
    },
    {
      "cell_type": "code",
      "source": [
        "### Subset\n",
        "df.na.drop(how='any',subset=['exp']).show()"
      ],
      "metadata": {
        "id": "dUr5-4QbmfgK",
        "outputId": "807e60f5-5c6c-48d3-9fcc-bd94600e047d",
        "colab": {
          "base_uri": "https://localhost:8080/"
        }
      },
      "execution_count": 20,
      "outputs": [
        {
          "output_type": "stream",
          "name": "stdout",
          "text": [
            "+------+---+---+------+\n",
            "|  name|age|exp|Salary|\n",
            "+------+---+---+------+\n",
            "| anand| 18|  4| 35000|\n",
            "|  jay | 24|  8| 30000|\n",
            "|   raj| 20|  6| 25000|\n",
            "|  ajay| 29|  3| 25000|\n",
            "|ranjan| 24|  6| 18000|\n",
            "|vivake| 21|  4| 40000|\n",
            "|  null| 34|  4| 19000|\n",
            "+------+---+---+------+\n",
            "\n"
          ]
        }
      ]
    },
    {
      "cell_type": "code",
      "source": [
        "### Filling the Missing Value\n",
        "df.na.fill('empt').show()"
      ],
      "metadata": {
        "id": "FQnY57tVaPIB",
        "outputId": "1271c46f-80b6-4b71-9f98-dfcb9afb4f40",
        "colab": {
          "base_uri": "https://localhost:8080/"
        }
      },
      "execution_count": 25,
      "outputs": [
        {
          "output_type": "stream",
          "name": "stdout",
          "text": [
            "+-------+---+----+------+\n",
            "|   name|age| exp|Salary|\n",
            "+-------+---+----+------+\n",
            "|  anand| 18|   4| 35000|\n",
            "|   jay | 24|   8| 30000|\n",
            "|    raj| 20|   6| 25000|\n",
            "|   ajay| 29|   3| 25000|\n",
            "| ranjan| 24|   6| 18000|\n",
            "| vivake| 21|   4| 40000|\n",
            "|kamlesh| 20|null| 15000|\n",
            "|   empt| 34|   4| 19000|\n",
            "|   empt| 36|null|  null|\n",
            "+-------+---+----+------+\n",
            "\n"
          ]
        }
      ]
    },
    {
      "cell_type": "code",
      "source": [
        "df.show()"
      ],
      "metadata": {
        "id": "cFMiaYe7apAR",
        "outputId": "3c50e801-29da-4d60-8b3d-5f1b1815b266",
        "colab": {
          "base_uri": "https://localhost:8080/"
        }
      },
      "execution_count": 26,
      "outputs": [
        {
          "output_type": "stream",
          "name": "stdout",
          "text": [
            "+-------+---+----+------+\n",
            "|   name|age| exp|Salary|\n",
            "+-------+---+----+------+\n",
            "|  anand| 18|   4| 35000|\n",
            "|   jay | 24|   8| 30000|\n",
            "|    raj| 20|   6| 25000|\n",
            "|   ajay| 29|   3| 25000|\n",
            "| ranjan| 24|   6| 18000|\n",
            "| vivake| 21|   4| 40000|\n",
            "|kamlesh| 20|null| 15000|\n",
            "|   null| 34|   4| 19000|\n",
            "|   null| 36|null|  null|\n",
            "+-------+---+----+------+\n",
            "\n"
          ]
        }
      ]
    },
    {
      "cell_type": "code",
      "source": [
        "from pyspark.ml.feature import Imputer\n",
        "\n",
        "imputer = Imputer(\n",
        "    inputCols=['age','exp','Salary'],\n",
        "    outputCols=[\"{}_imputed\".format(c) for c in ['age','exp','Salary']]\n",
        ").setStrategy(\"mean\")"
      ],
      "metadata": {
        "id": "lDnLJC-5nPO7"
      },
      "execution_count": 27,
      "outputs": []
    },
    {
      "cell_type": "code",
      "source": [
        "### Add imputation cols to df\n",
        "imputer.fit(df).transform(df).show()"
      ],
      "metadata": {
        "id": "JftJGU8toLcw",
        "outputId": "fb5ea992-5417-4d07-b649-5d7600e82792",
        "colab": {
          "base_uri": "https://localhost:8080/"
        }
      },
      "execution_count": 28,
      "outputs": [
        {
          "output_type": "stream",
          "name": "stdout",
          "text": [
            "+-------+---+----+------+-----------+-----------+--------------+\n",
            "|   name|age| exp|Salary|age_imputed|exp_imputed|Salary_imputed|\n",
            "+-------+---+----+------+-----------+-----------+--------------+\n",
            "|  anand| 18|   4| 35000|         18|          4|         35000|\n",
            "|   jay | 24|   8| 30000|         24|          8|         30000|\n",
            "|    raj| 20|   6| 25000|         20|          6|         25000|\n",
            "|   ajay| 29|   3| 25000|         29|          3|         25000|\n",
            "| ranjan| 24|   6| 18000|         24|          6|         18000|\n",
            "| vivake| 21|   4| 40000|         21|          4|         40000|\n",
            "|kamlesh| 20|null| 15000|         20|          5|         15000|\n",
            "|   null| 34|   4| 19000|         34|          4|         19000|\n",
            "|   null| 36|null|  null|         36|          5|         25875|\n",
            "+-------+---+----+------+-----------+-----------+--------------+\n",
            "\n"
          ]
        }
      ]
    }
  ]
}