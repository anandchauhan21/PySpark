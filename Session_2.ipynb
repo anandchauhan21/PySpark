{
  "nbformat": 4,
  "nbformat_minor": 0,
  "metadata": {
    "colab": {
      "name": "Session-2.ipynb",
      "provenance": [],
      "collapsed_sections": [],
      "authorship_tag": "ABX9TyN0RY8ZV9LMFeVf5KbAk7Q9",
      "include_colab_link": true
    },
    "kernelspec": {
      "name": "python3",
      "display_name": "Python 3"
    },
    "language_info": {
      "name": "python"
    }
  },
  "cells": [
    {
      "cell_type": "markdown",
      "metadata": {
        "id": "view-in-github",
        "colab_type": "text"
      },
      "source": [
        "<a href=\"https://colab.research.google.com/github/anandchauhan21/PySpark/blob/main/Session_2.ipynb\" target=\"_parent\"><img src=\"https://colab.research.google.com/assets/colab-badge.svg\" alt=\"Open In Colab\"/></a>"
      ]
    },
    {
      "cell_type": "code",
      "source": [
        "!pip install pyspark"
      ],
      "metadata": {
        "colab": {
          "base_uri": "https://localhost:8080/"
        },
        "id": "M-xXujRzfrkw",
        "outputId": "1f700837-222f-400c-ebb6-15e8669824e9"
      },
      "execution_count": 2,
      "outputs": [
        {
          "output_type": "stream",
          "name": "stdout",
          "text": [
            "Looking in indexes: https://pypi.org/simple, https://us-python.pkg.dev/colab-wheels/public/simple/\n",
            "Collecting pyspark\n",
            "  Downloading pyspark-3.3.0.tar.gz (281.3 MB)\n",
            "\u001b[K     |████████████████████████████████| 281.3 MB 45 kB/s \n",
            "\u001b[?25hCollecting py4j==0.10.9.5\n",
            "  Downloading py4j-0.10.9.5-py2.py3-none-any.whl (199 kB)\n",
            "\u001b[K     |████████████████████████████████| 199 kB 57.9 MB/s \n",
            "\u001b[?25hBuilding wheels for collected packages: pyspark\n",
            "  Building wheel for pyspark (setup.py) ... \u001b[?25l\u001b[?25hdone\n",
            "  Created wheel for pyspark: filename=pyspark-3.3.0-py2.py3-none-any.whl size=281764026 sha256=8b9c10a71539dc8669513380c7aca2d230cc10f7df6a4b21f7927871a9f7f958\n",
            "  Stored in directory: /root/.cache/pip/wheels/7a/8e/1b/f73a52650d2e5f337708d9f6a1750d451a7349a867f928b885\n",
            "Successfully built pyspark\n",
            "Installing collected packages: py4j, pyspark\n",
            "Successfully installed py4j-0.10.9.5 pyspark-3.3.0\n"
          ]
        }
      ]
    },
    {
      "cell_type": "markdown",
      "source": [
        "# PySpark Handling Missing Values\n",
        "\n",
        "\n",
        "\n",
        "*   Dropping Colums\n",
        "*   Dropping Rows\n",
        "*   Various Parameter in Dropping functionalities\n",
        "*   Handling Missing values by Mean, MEdian And Mode\n"
      ],
      "metadata": {
        "id": "zfkX5GrZeV_2"
      }
    },
    {
      "cell_type": "code",
      "source": [
        "from pyspark.sql import SparkSession\n",
        "spark=SparkSession.builder.appName('Practise').getOrCreate()"
      ],
      "metadata": {
        "id": "LT7sHT-KfMCA"
      },
      "execution_count": 5,
      "outputs": []
    },
    {
      "cell_type": "code",
      "source": [
        "df = spark.read.csv('/content/test.csv', header=True,inferSchema=True)"
      ],
      "metadata": {
        "id": "DzJRVTaHflpd"
      },
      "execution_count": 7,
      "outputs": []
    },
    {
      "cell_type": "code",
      "source": [
        "df.show()"
      ],
      "metadata": {
        "colab": {
          "base_uri": "https://localhost:8080/"
        },
        "id": "KEVXE8AtkSqd",
        "outputId": "5093be47-b172-4280-c13e-2a9deff892ad"
      },
      "execution_count": 9,
      "outputs": [
        {
          "output_type": "stream",
          "name": "stdout",
          "text": [
            "+-------+---+----+------+\n",
            "|   name|age| exp|Salary|\n",
            "+-------+---+----+------+\n",
            "|  anand| 18|   4| 35000|\n",
            "|   jay | 24|   8| 30000|\n",
            "|    raj| 20|   6| 25000|\n",
            "|   ajay| 29|   3| 25000|\n",
            "| ranjan| 24|   6| 18000|\n",
            "| vivake| 21|   4| 40000|\n",
            "|kamlesh| 20|null| 15000|\n",
            "|   null| 34|   4| 19000|\n",
            "|   null| 36|null|  null|\n",
            "+-------+---+----+------+\n",
            "\n"
          ]
        }
      ]
    },
    {
      "cell_type": "code",
      "source": [
        "df.na.drop().show()"
      ],
      "metadata": {
        "colab": {
          "base_uri": "https://localhost:8080/"
        },
        "id": "nMxgcIXCknvP",
        "outputId": "3993fe73-5ced-4605-9fb0-3c83ba8dff9e"
      },
      "execution_count": 10,
      "outputs": [
        {
          "output_type": "stream",
          "name": "stdout",
          "text": [
            "+------+---+---+------+\n",
            "|  name|age|exp|Salary|\n",
            "+------+---+---+------+\n",
            "| anand| 18|  4| 35000|\n",
            "|  jay | 24|  8| 30000|\n",
            "|   raj| 20|  6| 25000|\n",
            "|  ajay| 29|  3| 25000|\n",
            "|ranjan| 24|  6| 18000|\n",
            "|vivake| 21|  4| 40000|\n",
            "+------+---+---+------+\n",
            "\n"
          ]
        }
      ]
    },
    {
      "cell_type": "code",
      "source": [
        "### any == how\n",
        "df.na.drop(how='all').show()"
      ],
      "metadata": {
        "colab": {
          "base_uri": "https://localhost:8080/"
        },
        "id": "7OknujAalR9m",
        "outputId": "d375a33d-5e70-4481-eeaf-ba19385e9064"
      },
      "execution_count": 12,
      "outputs": [
        {
          "output_type": "stream",
          "name": "stdout",
          "text": [
            "+-------+---+----+------+\n",
            "|   name|age| exp|Salary|\n",
            "+-------+---+----+------+\n",
            "|  anand| 18|   4| 35000|\n",
            "|   jay | 24|   8| 30000|\n",
            "|    raj| 20|   6| 25000|\n",
            "|   ajay| 29|   3| 25000|\n",
            "| ranjan| 24|   6| 18000|\n",
            "| vivake| 21|   4| 40000|\n",
            "|kamlesh| 20|null| 15000|\n",
            "|   null| 34|   4| 19000|\n",
            "|   null| 36|null|  null|\n",
            "+-------+---+----+------+\n",
            "\n"
          ]
        }
      ]
    },
    {
      "cell_type": "code",
      "source": [
        "### thereshold\n",
        "df.na.drop(how='any',thresh=1).show()"
      ],
      "metadata": {
        "colab": {
          "base_uri": "https://localhost:8080/"
        },
        "id": "rHHylkuzl9YV",
        "outputId": "402fc9ca-4260-4656-f2ec-75250935155b"
      },
      "execution_count": 14,
      "outputs": [
        {
          "output_type": "stream",
          "name": "stdout",
          "text": [
            "+-------+---+----+------+\n",
            "|   name|age| exp|Salary|\n",
            "+-------+---+----+------+\n",
            "|  anand| 18|   4| 35000|\n",
            "|   jay | 24|   8| 30000|\n",
            "|    raj| 20|   6| 25000|\n",
            "|   ajay| 29|   3| 25000|\n",
            "| ranjan| 24|   6| 18000|\n",
            "| vivake| 21|   4| 40000|\n",
            "|kamlesh| 20|null| 15000|\n",
            "|   null| 34|   4| 19000|\n",
            "|   null| 36|null|  null|\n",
            "+-------+---+----+------+\n",
            "\n"
          ]
        }
      ]
    },
    {
      "cell_type": "code",
      "source": [
        ""
      ],
      "metadata": {
        "id": "dUr5-4QbmfgK"
      },
      "execution_count": null,
      "outputs": []
    }
  ]
}