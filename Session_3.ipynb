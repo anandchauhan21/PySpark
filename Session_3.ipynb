{
  "nbformat": 4,
  "nbformat_minor": 0,
  "metadata": {
    "colab": {
      "name": "Session_3.ipynb",
      "provenance": [],
      "authorship_tag": "ABX9TyMFOnOyAyZA7JMHuBuU/12O",
      "include_colab_link": true
    },
    "kernelspec": {
      "name": "python3",
      "display_name": "Python 3"
    },
    "language_info": {
      "name": "python"
    }
  },
  "cells": [
    {
      "cell_type": "markdown",
      "metadata": {
        "id": "view-in-github",
        "colab_type": "text"
      },
      "source": [
        "<a href=\"https://colab.research.google.com/github/anandchauhan21/PySpark/blob/main/Session_3.ipynb\" target=\"_parent\"><img src=\"https://colab.research.google.com/assets/colab-badge.svg\" alt=\"Open In Colab\"/></a>"
      ]
    },
    {
      "cell_type": "code",
      "source": [
        "!pip install pyspark"
      ],
      "metadata": {
        "colab": {
          "base_uri": "https://localhost:8080/"
        },
        "id": "Z2YHQDuMr6IF",
        "outputId": "a24b19b3-fca1-484c-8da1-e94bff3ca65e"
      },
      "execution_count": 1,
      "outputs": [
        {
          "output_type": "stream",
          "name": "stdout",
          "text": [
            "Looking in indexes: https://pypi.org/simple, https://us-python.pkg.dev/colab-wheels/public/simple/\n",
            "Collecting pyspark\n",
            "  Downloading pyspark-3.3.0.tar.gz (281.3 MB)\n",
            "\u001b[K     |████████████████████████████████| 281.3 MB 45 kB/s \n",
            "\u001b[?25hCollecting py4j==0.10.9.5\n",
            "  Downloading py4j-0.10.9.5-py2.py3-none-any.whl (199 kB)\n",
            "\u001b[K     |████████████████████████████████| 199 kB 56.3 MB/s \n",
            "\u001b[?25hBuilding wheels for collected packages: pyspark\n",
            "  Building wheel for pyspark (setup.py) ... \u001b[?25l\u001b[?25hdone\n",
            "  Created wheel for pyspark: filename=pyspark-3.3.0-py2.py3-none-any.whl size=281764026 sha256=72f662421d15eb2095f0b9a319061931be337165c5112a13fc3e18c9196319ed\n",
            "  Stored in directory: /root/.cache/pip/wheels/7a/8e/1b/f73a52650d2e5f337708d9f6a1750d451a7349a867f928b885\n",
            "Successfully built pyspark\n",
            "Installing collected packages: py4j, pyspark\n",
            "Successfully installed py4j-0.10.9.5 pyspark-3.3.0\n"
          ]
        }
      ]
    },
    {
      "cell_type": "markdown",
      "source": [
        "# Pyspark Dataframes\n",
        "*   Filter Operation\n",
        "*   &, |, ==\n",
        "*   ~"
      ],
      "metadata": {
        "id": "gAqMHrHkq1BU"
      }
    },
    {
      "cell_type": "code",
      "execution_count": 2,
      "metadata": {
        "id": "0ixTP6tgqz9q"
      },
      "outputs": [],
      "source": [
        "from pyspark.sql import SparkSession\n",
        "spark=SparkSession.builder.appName('Practise').getOrCreate()"
      ]
    },
    {
      "cell_type": "code",
      "source": [
        "df = spark.read.csv('/content/test.csv', header=True,inferSchema=True)"
      ],
      "metadata": {
        "id": "-R6W-6F-sDXS"
      },
      "execution_count": 4,
      "outputs": []
    },
    {
      "cell_type": "code",
      "source": [
        "df.show()"
      ],
      "metadata": {
        "colab": {
          "base_uri": "https://localhost:8080/"
        },
        "id": "bCp-zPTMsEeP",
        "outputId": "63136acc-7a67-4726-95bb-3d0d275d5e89"
      },
      "execution_count": 5,
      "outputs": [
        {
          "output_type": "stream",
          "name": "stdout",
          "text": [
            "+-------+---+----+------+\n",
            "|   name|age| exp|Salary|\n",
            "+-------+---+----+------+\n",
            "|  anand| 18|   4| 35000|\n",
            "|   jay | 24|   8| 30000|\n",
            "|    raj| 20|   6| 25000|\n",
            "|   ajay| 29|   3| 25000|\n",
            "| ranjan| 24|   6| 18000|\n",
            "| vivake| 21|   4| 40000|\n",
            "|kamlesh| 20|null| 15000|\n",
            "|   null| 34|   4| 19000|\n",
            "|   null| 36|null|  null|\n",
            "+-------+---+----+------+\n",
            "\n"
          ]
        }
      ]
    },
    {
      "cell_type": "code",
      "source": [
        "df = df.na.drop()"
      ],
      "metadata": {
        "id": "wX3iC59HsV2D"
      },
      "execution_count": 6,
      "outputs": []
    },
    {
      "cell_type": "code",
      "source": [
        "df.show()"
      ],
      "metadata": {
        "colab": {
          "base_uri": "https://localhost:8080/"
        },
        "id": "8OmyQ24ksazG",
        "outputId": "7d56410b-a63d-4259-8f05-7e86a88347ed"
      },
      "execution_count": 7,
      "outputs": [
        {
          "output_type": "stream",
          "name": "stdout",
          "text": [
            "+------+---+---+------+\n",
            "|  name|age|exp|Salary|\n",
            "+------+---+---+------+\n",
            "| anand| 18|  4| 35000|\n",
            "|  jay | 24|  8| 30000|\n",
            "|   raj| 20|  6| 25000|\n",
            "|  ajay| 29|  3| 25000|\n",
            "|ranjan| 24|  6| 18000|\n",
            "|vivake| 21|  4| 40000|\n",
            "+------+---+---+------+\n",
            "\n"
          ]
        }
      ]
    },
    {
      "cell_type": "markdown",
      "source": [
        "## Filter Oprestion"
      ],
      "metadata": {
        "id": "1Pni_66Ks_BM"
      }
    },
    {
      "cell_type": "code",
      "source": [
        "### Salary of the people less then or equal to 30000\n",
        "df.filter(\"Salary<=30000\").show()"
      ],
      "metadata": {
        "colab": {
          "base_uri": "https://localhost:8080/"
        },
        "id": "raPv2E8ts-li",
        "outputId": "c4fcf924-d20d-4aa5-cf6e-9a68a5de1619"
      },
      "execution_count": 9,
      "outputs": [
        {
          "output_type": "stream",
          "name": "stdout",
          "text": [
            "+------+---+---+------+\n",
            "|  name|age|exp|Salary|\n",
            "+------+---+---+------+\n",
            "|  jay | 24|  8| 30000|\n",
            "|   raj| 20|  6| 25000|\n",
            "|  ajay| 29|  3| 25000|\n",
            "|ranjan| 24|  6| 18000|\n",
            "+------+---+---+------+\n",
            "\n"
          ]
        }
      ]
    },
    {
      "cell_type": "code",
      "source": [
        "df.filter(\"Salary<=30000\").select([\"name\",\"age\"]).show()"
      ],
      "metadata": {
        "colab": {
          "base_uri": "https://localhost:8080/"
        },
        "id": "4GLJpQoesdeo",
        "outputId": "74b17688-20e4-44f7-9762-7e0b775c94c4"
      },
      "execution_count": 11,
      "outputs": [
        {
          "output_type": "stream",
          "name": "stdout",
          "text": [
            "+------+---+\n",
            "|  name|age|\n",
            "+------+---+\n",
            "|  jay | 24|\n",
            "|   raj| 20|\n",
            "|  ajay| 29|\n",
            "|ranjan| 24|\n",
            "+------+---+\n",
            "\n"
          ]
        }
      ]
    },
    {
      "cell_type": "code",
      "source": [
        "df.filter((df['Salary']<=35000) & (df['Salary'] >=25000)).show()"
      ],
      "metadata": {
        "colab": {
          "base_uri": "https://localhost:8080/"
        },
        "id": "tdwvZqBFuQzB",
        "outputId": "769f3a55-b355-40ea-eee4-5f75b58aa71e"
      },
      "execution_count": 15,
      "outputs": [
        {
          "output_type": "stream",
          "name": "stdout",
          "text": [
            "+-----+---+---+------+\n",
            "| name|age|exp|Salary|\n",
            "+-----+---+---+------+\n",
            "|anand| 18|  4| 35000|\n",
            "| jay | 24|  8| 30000|\n",
            "|  raj| 20|  6| 25000|\n",
            "| ajay| 29|  3| 25000|\n",
            "+-----+---+---+------+\n",
            "\n"
          ]
        }
      ]
    },
    {
      "cell_type": "code",
      "source": [
        "df.filter(~(df['Salary']<=30000)).show()"
      ],
      "metadata": {
        "colab": {
          "base_uri": "https://localhost:8080/"
        },
        "id": "z-3iPZrIu_eg",
        "outputId": "a7b95839-4885-4236-b3c9-319bdff30223"
      },
      "execution_count": 20,
      "outputs": [
        {
          "output_type": "stream",
          "name": "stdout",
          "text": [
            "+------+---+---+------+\n",
            "|  name|age|exp|Salary|\n",
            "+------+---+---+------+\n",
            "| anand| 18|  4| 35000|\n",
            "|vivake| 21|  4| 40000|\n",
            "+------+---+---+------+\n",
            "\n"
          ]
        }
      ]
    }
  ]
}